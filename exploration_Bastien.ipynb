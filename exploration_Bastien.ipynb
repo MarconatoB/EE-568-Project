{
 "cells": [
  {
   "cell_type": "code",
   "execution_count": 3,
   "metadata": {},
   "outputs": [
    {
     "name": "stdout",
     "output_type": "stream",
     "text": [
      "Collecting gymnasium\n",
      "  Downloading gymnasium-0.29.1-py3-none-any.whl.metadata (10 kB)\n",
      "Requirement already satisfied: numpy>=1.21.0 in /Users/bastienmarconato/miniconda3/lib/python3.11/site-packages (from gymnasium) (1.26.3)\n",
      "Requirement already satisfied: cloudpickle>=1.2.0 in /Users/bastienmarconato/miniconda3/lib/python3.11/site-packages (from gymnasium) (3.0.0)\n",
      "Requirement already satisfied: typing-extensions>=4.3.0 in /Users/bastienmarconato/miniconda3/lib/python3.11/site-packages (from gymnasium) (4.9.0)\n",
      "Collecting farama-notifications>=0.0.1 (from gymnasium)\n",
      "  Downloading Farama_Notifications-0.0.4-py3-none-any.whl.metadata (558 bytes)\n",
      "Downloading gymnasium-0.29.1-py3-none-any.whl (953 kB)\n",
      "\u001b[2K   \u001b[90m━━━━━━━━━━━━━━━━━━━━━━━━━━━━━━━━━━━━━━━━\u001b[0m \u001b[32m953.9/953.9 kB\u001b[0m \u001b[31m8.4 MB/s\u001b[0m eta \u001b[36m0:00:00\u001b[0m00:01\u001b[0m00:01\u001b[0m\n",
      "\u001b[?25hDownloading Farama_Notifications-0.0.4-py3-none-any.whl (2.5 kB)\n",
      "Installing collected packages: farama-notifications, gymnasium\n",
      "Successfully installed farama-notifications-0.0.4 gymnasium-0.29.1\n",
      "Requirement already satisfied: gym-notices in /Users/bastienmarconato/miniconda3/lib/python3.11/site-packages (0.0.8)\n"
     ]
    }
   ],
   "source": [
    "!pip install gymnasium\n",
    "!pip install gym-notices"
   ]
  },
  {
   "cell_type": "code",
   "execution_count": 1,
   "metadata": {},
   "outputs": [
    {
     "data": {
      "text/plain": [
       "device(type='mps')"
      ]
     },
     "execution_count": 1,
     "metadata": {},
     "output_type": "execute_result"
    }
   ],
   "source": [
    "import gymnasium as gym\n",
    "import numpy as np\n",
    "from collections import deque\n",
    "import matplotlib.pyplot as plt\n",
    "plt.rcParams['figure.figsize'] = (16, 10)\n",
    "\n",
    "import torch\n",
    "import torch.nn as nn\n",
    "import torch.nn.functional as F\n",
    "import torch.optim as optim\n",
    "from torch.distributions import Categorical\n",
    "torch.manual_seed(0)\n",
    "\n",
    "import base64, io\n",
    "\n",
    "# For visualization\n",
    "from gym.wrappers.monitoring import video_recorder\n",
    "from IPython.display import HTML\n",
    "from IPython import display\n",
    "import glob\n",
    "\n",
    "device = torch.device(\"mps\" if torch.backends.mps.is_available() else\n",
    "                      \"cuda:0\" if torch.cuda.is_available() else\n",
    "                      \"cpu\")\n",
    "device\n"
   ]
  },
  {
   "cell_type": "code",
   "execution_count": 23,
   "metadata": {},
   "outputs": [],
   "source": [
    "class Actor(nn.Module):\n",
    "    def __init__(self, state_dim, action_dim, discrete_actions, hidden_dim=256):\n",
    "        super(Actor, self).__init__()\n",
    "\n",
    "        self.l1 = nn.Linear(state_dim, hidden_dim)\n",
    "        self.l2 = nn.Linear(hidden_dim, hidden_dim)\n",
    "        self.l3 = nn.Linear(hidden_dim, action_dim)\n",
    "\n",
    "        self.discrete_actions = discrete_actions\n",
    "\n",
    "\n",
    "    def forward(self, state):\n",
    "        a = F.relu(self.l1(state))\n",
    "        a = F.relu(self.l2(a))\n",
    "        a = F.tanh(self.l3(a))\n",
    "        \n",
    "        if self.discrete_actions is True:\n",
    "            return torch.argmax(a, -1)\n",
    "        else:\n",
    "            return a\n",
    "\n",
    "\n",
    "class Critic(nn.Module):\n",
    "    def __init__(self, state_dim, action_dim, hidden_dim=256):\n",
    "        super(Critic, self).__init__()\n",
    "\n",
    "        self.Q1 = nn.Sequential(\n",
    "            nn.Linear(state_dim + action_dim, hidden_dim),\n",
    "            nn.ReLU(),\n",
    "            nn.Linear(hidden_dim, hidden_dim),\n",
    "            nn.ReLU(),\n",
    "            nn.Linear(hidden_dim, 1)\n",
    "        )\n",
    "\n",
    "        self.Q2 = nn.Sequential(\n",
    "            nn.Linear(state_dim + action_dim, hidden_dim),\n",
    "            nn.ReLU(),\n",
    "            nn.Linear(hidden_dim, hidden_dim),\n",
    "            nn.ReLU(),\n",
    "            nn.Linear(hidden_dim, 1)\n",
    "        )\n",
    "\n",
    "    def forward(self, state, action):\n",
    "        state_action = torch.cat([state, action], 1)\n",
    "\n",
    "        q1 = self.Q1(state_action)\n",
    "        q2 = self.Q2(state_action)\n",
    "\n",
    "        return q1, q2\n",
    "\n",
    "def train_TD3(env):\n",
    "    \n",
    "    # all classical control envs have continuous states\n",
    "    state_dim = env.observation_space.shape.item()\n",
    "\n",
    "    # check if action space is discrete\n",
    "    discrete_actions = isinstance(env.action_space, gym.spaces.Discrete)\n",
    "    if discrete_actions:\n",
    "        # dimension is the number of discrete actions\n",
    "        action_dim = env.action_space.ns\n",
    "\n",
    "    else:   # continuous action space\n",
    "        action_dim = env.action_space.shape.item()\n",
    "\n",
    "    actor = Actor(state_dim, action_dim, discrete_actions).to(device)\n",
    "    critic = Critic(state_dim, action_dim).to(device)"
   ]
  },
  {
   "cell_type": "code",
   "execution_count": 22,
   "metadata": {},
   "outputs": [
    {
     "name": "stdout",
     "output_type": "stream",
     "text": [
      "Acrobot-v1 Discrete(3)\n",
      "Discrete:  True\n",
      "Action space shape:  ()\n",
      "State space:  Box([ -1.        -1.        -1.        -1.       -12.566371 -28.274334], [ 1.        1.        1.        1.       12.566371 28.274334], (6,), float32)\n",
      "CartPole-v1 Discrete(2)\n",
      "Discrete:  True\n",
      "Action space shape:  ()\n",
      "State space:  Box([-4.8000002e+00 -3.4028235e+38 -4.1887903e-01 -3.4028235e+38], [4.8000002e+00 3.4028235e+38 4.1887903e-01 3.4028235e+38], (4,), float32)\n",
      "MountainCarContinuous-v0 Box(-1.0, 1.0, (1,), float32)\n",
      "Discrete:  False\n",
      "Action space shape:  (1,)\n",
      "[-1.] [1.]\n",
      "State space:  Box([-1.2  -0.07], [0.6  0.07], (2,), float32)\n",
      "MountainCar-v0 Discrete(3)\n",
      "Discrete:  True\n",
      "Action space shape:  ()\n",
      "State space:  Box([-1.2  -0.07], [0.6  0.07], (2,), float32)\n",
      "Pendulum-v1 Box(-2.0, 2.0, (1,), float32)\n",
      "Discrete:  False\n",
      "Action space shape:  (1,)\n",
      "[-2.] [2.]\n",
      "State space:  Box([-1. -1. -8.], [1. 1. 8.], (3,), float32)\n"
     ]
    }
   ],
   "source": [
    "envs = [\"Acrobot-v1\", \"CartPole-v1\", \"MountainCarContinuous-v0\", \"MountainCar-v0\", \"Pendulum-v1\"]\n",
    "\n",
    "\n",
    "for env_name in envs:\n",
    "\n",
    "    env = gym.make(env_name)\n",
    "    print(env_name, env.action_space)\n",
    "    print(\"Discrete: \", isinstance(env.action_space, gym.spaces.Discrete))\n",
    "    print(\"Action space shape: \", env.action_space.shape)\n",
    "    if not isinstance(env.action_space, gym.spaces.Discrete):\n",
    "        print(env.action_space.low, env.action_space.high)\n",
    "    \n",
    "    print(\"State space: \", env.observation_space)"
   ]
  },
  {
   "cell_type": "code",
   "execution_count": null,
   "metadata": {},
   "outputs": [],
   "source": []
  }
 ],
 "metadata": {
  "kernelspec": {
   "display_name": "Python 3",
   "language": "python",
   "name": "python3"
  },
  "language_info": {
   "codemirror_mode": {
    "name": "ipython",
    "version": 3
   },
   "file_extension": ".py",
   "mimetype": "text/x-python",
   "name": "python",
   "nbconvert_exporter": "python",
   "pygments_lexer": "ipython3",
   "version": "3.12.0"
  }
 },
 "nbformat": 4,
 "nbformat_minor": 2
}
